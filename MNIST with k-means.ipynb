{
 "cells": [
  {
   "cell_type": "markdown",
   "metadata": {},
   "source": [
    "# MNIST with KMeans\n",
    "## Part 1\n",
    "### Getting the Data"
   ]
  },
  {
   "cell_type": "markdown",
   "metadata": {},
   "source": [
    "Clustering algorithms are useful ways to categorize data that follows some pattern. For this project we will investigate the k-means algorithm. K-means is an unsupervised machine learning algorithm, meaning you feed it data and it will automatically categorize it. \n",
    "<br>We can begin by importing some useful libraries. "
   ]
  },
  {
   "cell_type": "code",
   "execution_count": 2,
   "metadata": {},
   "outputs": [],
   "source": [
    "import numpy as np\n",
    "import matplotlib.pyplot as plt\n",
    "import seaborn as sns"
   ]
  },
  {
   "cell_type": "markdown",
   "metadata": {},
   "source": [
    "We will perform our experiments on the MNIST database. This includes 60,000 handwritten digits from 0 to 9. Images are represented as 784 dimensional vectors, and labels is comprised of the corresponding digit represented by said vector. "
   ]
  },
  {
   "cell_type": "code",
   "execution_count": 27,
   "metadata": {},
   "outputs": [
    {
     "name": "stdout",
     "output_type": "stream",
     "text": [
      "Found: train-images-idx3-ubyte.gz\n",
      "Found: train-labels-idx1-ubyte.gz\n"
     ]
    }
   ],
   "source": [
    "from pathlib import Path\n",
    "import requests\n",
    "import numpy as np\n",
    "import gzip\n",
    "\n",
    "mnist_url = \"http://yann.lecun.com/exdb/mnist/\"\n",
    "img_file = \"train-images-idx3-ubyte.gz\"\n",
    "labels_file = \"train-labels-idx1-ubyte.gz\"\n",
    "\n",
    "for fname in [img_file, labels_file]:\n",
    "    if Path(fname).is_file() :\n",
    "        print(f\"Found: {fname}\")\n",
    "        continue\n",
    "    print(f\"Downloading: {fname}\")\n",
    "    r = requests.get(mnist_url + fname)\n",
    "    with open(fname, 'wb') as foo:\n",
    "        foo.write(r.content)\n",
    "\n",
    "with gzip.open(img_file, 'rb') as foo:\n",
    "    f = foo.read()\n",
    "images = np.array([b for b in f[16:]]).reshape(-1, 28*28)\n",
    "\n",
    "with gzip.open(labels_file, 'rb') as foo:\n",
    "    f = foo.read()\n",
    "labels = np.array([b for b in f[8:]])"
   ]
  },
  {
   "cell_type": "markdown",
   "metadata": {},
   "source": [
    "To illustrate, we can simply grab one of the images (images[50]), and reshape it to 2-dimensions so that it looks like a flate image. \n",
    "<br>a single image inside of the 'images' variable looks like this:"
   ]
  },
  {
   "cell_type": "code",
   "execution_count": 28,
   "metadata": {},
   "outputs": [
    {
     "name": "stdout",
     "output_type": "stream",
     "text": [
      "[[  0   0   0   0   0   0   0   0   0   0   0   0   0   0   0   0   0   0   0   0   0   0   0   0   0   0   0   0]\n",
      " [  0   0   0   0   0   0   0   0   0   0   0   0   0   0   0   0   0   0   0   0   0   0   0   0   0   0   0   0]\n",
      " [  0   0   0   0   0   0   0   0   0   0   0   0   0   0   0   0   0  25 214 225  90   0   0   0   0   0   0   0]\n",
      " [  0   0   0   0   0   0   0   0   0   0   0   0   0   0   0   7 145 212 253 253  60   0   0   0   0   0   0   0]\n",
      " [  0   0   0   0   0   0   0   0   0   0   0   0   0   0   0 106 253 253 246 188  23   0   0   0   0   0   0   0]\n",
      " [  0   0   0   0   0   0   0   0   0   0   0   0   0  45 164 254 253 223 108   0   0   0   0   0   0   0   0   0]\n",
      " [  0   0   0   0   0   0   0   0   0   0   0   0  24 236 253 252 124  28   0   0   0   0   0   0   0   0   0   0]\n",
      " [  0   0   0   0   0   0   0   0   0   0   0 100 217 253 218 116   0   0   0   0   0   0   0   0   0   0   0   0]\n",
      " [  0   0   0   0   0   0   0   0   0   0 158 175 225 253  92   0   0   0   0   0   0   0   0   0   0   0   0   0]\n",
      " [  0   0   0   0   0   0   0   0   0  24 217 241 248 114   2   0   0   0   0   0   0   0   0   0   0   0   0   0]\n",
      " [  0   0   0   0   0   0   0   0  21 201 253 253 114   3   0   0   0   0   0   0   0   0   0   0   0   0   0   0]\n",
      " [  0   0   0   0   0   0   0   0 107 253 253 213  19   0   0   0   0   0   0   0   0   0   0   0   0   0   0   0]\n",
      " [  0   0   0   0   0   0   0   0 170 254 254 169   0   0   0   0   0   2  13 100 133  89   0   0   0   0   0   0]\n",
      " [  0   0   0   0   0   0   0  18 210 253 253 100   0   0   0  19  76 116 253 253 253 176   4   0   0   0   0   0]\n",
      " [  0   0   0   0   0   0   0  41 222 253 208  18   0   0  93 209 232 217 224 253 253 241  31   0   0   0   0   0]\n",
      " [  0   0   0   0   0   0   0 157 253 253 229  32   0 154 250 246  36   0  49 253 253 168   0   0   0   0   0   0]\n",
      " [  0   0   0   0   0   0   0 128 253 253 253 195 125 247 166  69   0   0  37 236 253 168   0   0   0   0   0   0]\n",
      " [  0   0   0   0   0   0   0  37 253 253 253 253 253 135  32   0   7 130  73 202 253 133   0   0   0   0   0   0]\n",
      " [  0   0   0   0   0   0   0   7 185 253 253 253 253  64   0  10 210 253 253 253 153   9   0   0   0   0   0   0]\n",
      " [  0   0   0   0   0   0   0   0  66 253 253 253 253 238 218 221 253 253 235 156  37   0   0   0   0   0   0   0]\n",
      " [  0   0   0   0   0   0   0   0   5 111 228 253 253 253 253 254 253 168  19   0   0   0   0   0   0   0   0   0]\n",
      " [  0   0   0   0   0   0   0   0   0   0   9 110 178 253 253 249  63   5   0   0   0   0   0   0   0   0   0   0]\n",
      " [  0   0   0   0   0   0   0   0   0   0   0   0   0   0   0   0   0   0   0   0   0   0   0   0   0   0   0   0]\n",
      " [  0   0   0   0   0   0   0   0   0   0   0   0   0   0   0   0   0   0   0   0   0   0   0   0   0   0   0   0]\n",
      " [  0   0   0   0   0   0   0   0   0   0   0   0   0   0   0   0   0   0   0   0   0   0   0   0   0   0   0   0]\n",
      " [  0   0   0   0   0   0   0   0   0   0   0   0   0   0   0   0   0   0   0   0   0   0   0   0   0   0   0   0]\n",
      " [  0   0   0   0   0   0   0   0   0   0   0   0   0   0   0   0   0   0   0   0   0   0   0   0   0   0   0   0]\n",
      " [  0   0   0   0   0   0   0   0   0   0   0   0   0   0   0   0   0   0   0   0   0   0   0   0   0   0   0   0]]\n"
     ]
    }
   ],
   "source": [
    "img = images[90].reshape(28, 28)\n",
    "with np.printoptions(linewidth=5*28):\n",
    "    print(img)"
   ]
  },
  {
   "cell_type": "markdown",
   "metadata": {},
   "source": [
    "And its label is of course 6."
   ]
  },
  {
   "cell_type": "code",
   "execution_count": 29,
   "metadata": {
    "scrolled": true
   },
   "outputs": [
    {
     "data": {
      "text/plain": [
       "6"
      ]
     },
     "execution_count": 29,
     "metadata": {},
     "output_type": "execute_result"
    }
   ],
   "source": [
    "labels[90]"
   ]
  },
  {
   "cell_type": "markdown",
   "metadata": {},
   "source": [
    "### Fitting KMeans"
   ]
  },
  {
   "cell_type": "markdown",
   "metadata": {},
   "source": [
    "Using sklearn's KMeans function, we specify that we want 10 clusters (for the 10 digits). We then feed the images into the algorithm. We set the random state to 0 so that the clusters are the same every time."
   ]
  },
  {
   "cell_type": "code",
   "execution_count": 36,
   "metadata": {},
   "outputs": [
    {
     "data": {
      "text/plain": [
       "KMeans(n_clusters=10, random_state=0)"
      ]
     },
     "execution_count": 36,
     "metadata": {},
     "output_type": "execute_result"
    }
   ],
   "source": [
    "from sklearn.cluster import KMeans\n",
    "\n",
    "images = images\n",
    "labels = labels\n",
    "\n",
    "km  = KMeans(n_clusters=10, random_state = 0)\n",
    "km.fit(images)"
   ]
  },
  {
   "cell_type": "markdown",
   "metadata": {},
   "source": [
    "KMeans splits data into clusers, and each cluster has a center, or average. Do these cluster centers resemble digits?"
   ]
  },
  {
   "cell_type": "markdown",
   "metadata": {},
   "source": [
    "We can print each cluster center to find out:"
   ]
  },
  {
   "cell_type": "code",
   "execution_count": 47,
   "metadata": {},
   "outputs": [
    {
     "data": {
      "image/png": "[encoded data removed]",
      "text/plain": [
       "<Figure size 360x360 with 20 Axes>"
      ]
     },
     "metadata": {
      "needs_background": "light"
     },
     "output_type": "display_data"
    }
   ],
   "source": [
    "from mpl_toolkits.axes_grid1 import ImageGrid\n",
    "\n",
    "centers = km.cluster_centers_.reshape(10, 28, 28)\n",
    "fig = plt.figure(figsize=(5., 5.))\n",
    "grid = ImageGrid(fig, 111,  # similar to subplot(111)\n",
    "                 nrows_ncols=(2, 5),  # creates 2x2 grid of axes\n",
    "                 axes_pad=0.1,  # pad between axes in inch.\n",
    "                 )\n",
    "\n",
    "for ax, im in zip(grid, [centers[0], centers[1], centers[2], centers[3], centers[4], centers[5], centers[6], centers[7], centers[8], centers[9]]):\n",
    "    # Iterating over the grid returns the Axes.\n",
    "    ax.imshow(im, cmap='Greys')\n",
    "\n",
    "plt.show()"
   ]
  },
  {
   "cell_type": "markdown",
   "metadata": {},
   "source": [
    "And they do! Each cluster center resembles a digit, though not all digits represented in images are represented. It features a clear 2, 3, 6, and 8, but has three repeated digits. \n",
    "<br> KMeans has accomplished this with no information about what a digit actually is.\n",
    "<br>\n",
    "This print is adapted from matplotlib's suggestion for image grids: https://matplotlib.org/3.1.1/gallery/axes_grid1/simple_axesgrid.html"
   ]
  },
  {
   "cell_type": "markdown",
   "metadata": {},
   "source": [
    "But how accurate are these classifications? \n",
    "<br>To answer this, we can create a confusion matrix. Each row corresponds to the actual categorization of a digit, and each column corresponds to the closest cluster center's index."
   ]
  },
  {
   "cell_type": "markdown",
   "metadata": {},
   "source": [
    "### Kmean's Accuracy"
   ]
  },
  {
   "cell_type": "code",
   "execution_count": 38,
   "metadata": {},
   "outputs": [],
   "source": [
    "km_labels = km.labels_\n",
    "\n",
    "acc = np.zeros((10, 10), dtype=int)\n",
    "\n",
    "for i in range(len(labels)):\n",
    "    k_lab = km_labels[i]\n",
    "    r_lab = labels[i]\n",
    "    acc[r_lab, k_lab] = acc[r_lab, k_lab] + 1"
   ]
  },
  {
   "cell_type": "markdown",
   "metadata": {},
   "source": [
    "We can use the seaborn library to make a heatmap representing the confusion matrix. Here are some key notes.\n",
    "-  Images whose true label was 0 were split between the two clusters resembling zeros the most (the first and second ones)\n",
    "-  Images whose true label was 1 were split between the two clusters resembling zeros the most (the first and eighth ones)\n",
    "-  Five, which had no clear representation in the cluser centroids, was most often confused for 3, 7, and 8."
   ]
  },
  {
   "cell_type": "code",
   "execution_count": 39,
   "metadata": {},
   "outputs": [
    {
     "data": {
      "image/png": "[encoded data removed]",
      "text/plain": [
       "<Figure size 720x720 with 2 Axes>"
      ]
     },
     "metadata": {
      "needs_background": "light"
     },
     "output_type": "display_data"
    }
   ],
   "source": [
    "plt.figure(figsize=(10, 10))\n",
    "\n",
    "sns.heatmap(\n",
    "    acc,\n",
    "    annot=True,\n",
    "    annot_kws={\"fontsize\": 16},\n",
    "    cbar=True,\n",
    "    linewidth=2,\n",
    "    square=True,\n",
    "    fmt=\"d\"\n",
    ")\n",
    "plt.xlabel(\"Predictions\")\n",
    "plt.show()"
   ]
  },
  {
   "cell_type": "markdown",
   "metadata": {},
   "source": [
    "Though not perfect, it is still impressive that the algorithm can be this accurate without having any information about the labels!"
   ]
  },
  {
   "cell_type": "markdown",
   "metadata": {},
   "source": [
    "## Part 2"
   ]
  },
  {
   "cell_type": "markdown",
   "metadata": {},
   "source": [
    "### Introducing K-Nearest Neighbors"
   ]
  },
  {
   "cell_type": "markdown",
   "metadata": {},
   "source": [
    "Another common machine learning algorithm is the K-Nearest Neighbors algorithm (K-NN). For example, on this data set it would rank the images 'closest' to some input image, and then classifying based on the most labels of the closest images.\n",
    "<br>Though accurate, the K-NN algorithm is extremely slow on high numbers of images. For example, if we were to apply the KMeans algorithm to this data set, it would have to run 784 operations per every image! \n",
    "<br> So we will attempt to make this faster using <b>KMeans</b> to reduce its dimensionality."
   ]
  },
  {
   "cell_type": "markdown",
   "metadata": {},
   "source": [
    "### Applying KMeans"
   ]
  },
  {
   "cell_type": "markdown",
   "metadata": {},
   "source": [
    "We can start this process by first permuting the data set, preventing any patterns in the data set."
   ]
  },
  {
   "cell_type": "code",
   "execution_count": 40,
   "metadata": {},
   "outputs": [],
   "source": [
    "from sklearn.neighbors import KNeighborsClassifier"
   ]
  },
  {
   "cell_type": "code",
   "execution_count": 11,
   "metadata": {},
   "outputs": [
    {
     "data": {
      "text/plain": [
       "array([58490, 29928, 51871, ..., 29028,   840, 22721])"
      ]
     },
     "execution_count": 11,
     "metadata": {},
     "output_type": "execute_result"
    }
   ],
   "source": [
    "rng = np.random.default_rng(2)\n",
    "reorder = rng.permutation(len(images))\n",
    "reorder"
   ]
  },
  {
   "cell_type": "code",
   "execution_count": 12,
   "metadata": {},
   "outputs": [],
   "source": [
    "images = images[reorder]\n",
    "labels = labels[reorder]"
   ]
  },
  {
   "cell_type": "markdown",
   "metadata": {},
   "source": [
    "Since K-Nearest Neighbors is a <b>supervised</b> machine learning algorithm, we need to split the images into a training set and a testing set. \n",
    "<br>We then fit KMeans to the training set, labeled 't_images'."
   ]
  },
  {
   "cell_type": "code",
   "execution_count": 13,
   "metadata": {},
   "outputs": [
    {
     "data": {
      "text/plain": [
       "KMeans(n_clusters=10)"
      ]
     },
     "execution_count": 13,
     "metadata": {},
     "output_type": "execute_result"
    }
   ],
   "source": [
    "test_num = 1000\n",
    "t_images = images[:test_num]\n",
    "t_labels = labels[:test_num]\n",
    "\n",
    "n_images = images[test_num:2000]\n",
    "n_labels = labels[test_num:2000]\n",
    "\n",
    "km  = KMeans(n_clusters=10)\n",
    "km.fit(t_images)"
   ]
  },
  {
   "cell_type": "markdown",
   "metadata": {},
   "source": [
    "KMeans has a built in function called 'reduce'. This stores every image as a <b>distance</b> from each of the 10 cluster centers.\n",
    "<br> In doing this we reduce the dimensionality of the data from 748 to just 10! So when classifying each image we have to do far fewer operations."
   ]
  },
  {
   "cell_type": "code",
   "execution_count": 41,
   "metadata": {},
   "outputs": [
    {
     "data": {
      "text/plain": [
       "array([[2331.51010554, 2587.60508345, 2369.03518535, ..., 2383.3222658 ,\n",
       "        2264.9284469 , 2116.45442894],\n",
       "       [2225.61301842, 2271.52198619, 2581.66985912, ..., 2273.63025136,\n",
       "        2469.07487396, 2057.8879485 ],\n",
       "       [1879.13265075, 2071.31316808, 1969.76568581, ..., 1981.61525573,\n",
       "        1902.42588065, 2088.69570753],\n",
       "       ...,\n",
       "       [1700.64563669, 2362.99284756, 2282.83676843, ..., 1389.17927597,\n",
       "        1789.88003021, 1867.44512477],\n",
       "       [2356.20933205, 2489.42550835, 2173.04656048, ..., 2091.1591474 ,\n",
       "        2100.08503136, 2331.51577106],\n",
       "       [2514.12469064, 1629.69081994, 1522.27659378, ..., 2538.22288231,\n",
       "        2060.12075644, 2209.58363183]])"
      ]
     },
     "execution_count": 41,
     "metadata": {},
     "output_type": "execute_result"
    }
   ],
   "source": [
    "reduced = km.transform(n_images)\n",
    "\n",
    "t_reduced = km.transform(t_images)\n",
    "t_reduced"
   ]
  },
  {
   "cell_type": "markdown",
   "metadata": {},
   "source": [
    "We will compare the dimensionally reduced data with the normal data with two metrics, speed and accuracy."
   ]
  },
  {
   "cell_type": "markdown",
   "metadata": {},
   "source": [
    "First, lets look at the normal data. We fit the knn function on the training set, and then use 'KNeighborsClassifier.score()' to check the percentage of images the algorithm classifies properly."
   ]
  },
  {
   "cell_type": "code",
   "execution_count": 43,
   "metadata": {},
   "outputs": [
    {
     "name": "stdout",
     "output_type": "stream",
     "text": [
      "1.42 s ± 26.8 ms per loop (mean ± std. dev. of 7 runs, 1 loop each)\n"
     ]
    }
   ],
   "source": [
    "%%timeit\n",
    "\n",
    "knn = KNeighborsClassifier(n_neighbors=5)\n",
    "knn.fit(t_images, t_labels)\n",
    "\n",
    "knn.score(n_images, n_labels)"
   ]
  },
  {
   "cell_type": "code",
   "execution_count": 44,
   "metadata": {},
   "outputs": [
    {
     "data": {
      "text/plain": [
       "0.865"
      ]
     },
     "execution_count": 44,
     "metadata": {},
     "output_type": "execute_result"
    }
   ],
   "source": [
    "knn = KNeighborsClassifier(n_neighbors=5)\n",
    "knn.fit(t_images, t_labels)\n",
    "\n",
    "knn.score(n_images, n_labels)"
   ]
  },
  {
   "cell_type": "markdown",
   "metadata": {},
   "source": [
    "The k-Nearest Neighbors algorithm takes about 2 seconds to label all 1000 images in the testing data, and labels them with an impressive 87% accuracy."
   ]
  },
  {
   "cell_type": "markdown",
   "metadata": {},
   "source": [
    "Now, lets see how much faster the reduced set is."
   ]
  },
  {
   "cell_type": "code",
   "execution_count": 45,
   "metadata": {},
   "outputs": [
    {
     "name": "stdout",
     "output_type": "stream",
     "text": [
      "30.6 ms ± 1.33 ms per loop (mean ± std. dev. of 7 runs, 10 loops each)\n"
     ]
    }
   ],
   "source": [
    "%%timeit\n",
    "\n",
    "knn = KNeighborsClassifier(n_neighbors=5)\n",
    "knn.fit(t_reduced, t_labels)\n",
    "\n",
    "knn.score(reduced, n_labels)"
   ]
  },
  {
   "cell_type": "code",
   "execution_count": 46,
   "metadata": {},
   "outputs": [
    {
     "data": {
      "text/plain": [
       "0.729"
      ]
     },
     "execution_count": 46,
     "metadata": {},
     "output_type": "execute_result"
    }
   ],
   "source": [
    "knn = KNeighborsClassifier(n_neighbors=5)\n",
    "knn.fit(t_reduced, t_labels)\n",
    "\n",
    "knn.score(reduced, n_labels)"
   ]
  },
  {
   "cell_type": "markdown",
   "metadata": {},
   "source": [
    "The reduced set takes around 30 <b>microseconds</b> to classify the 1000 images in the testing data, but it does so with 73% accuracy, notably lower than the unreduced data."
   ]
  },
  {
   "cell_type": "markdown",
   "metadata": {},
   "source": [
    "It is pretty amazing that some creative use of KMeans can help other ML algorithms. And as we saw in part 1, it is also useful in its own right."
   ]
  },
  {
   "cell_type": "markdown",
   "metadata": {},
   "source": [
    "### Determine optimal no. of clusters with the Elbow Method "
   ]
  },
  {
   "cell_type": "markdown",
   "metadata": {},
   "source": [
    "So far, we have used 10 clusters to represent the ten possible labels. But is that the most efficiant way? What if a different number of clusters works better?"
   ]
  },
  {
   "cell_type": "markdown",
   "metadata": {},
   "source": [
    "We can achieve this by solving for inertia. A large inertia value means the data is far apart from the cluster centeres. A small inertia means the clusters are tighter."
   ]
  },
  {
   "cell_type": "code",
   "execution_count": 49,
   "metadata": {},
   "outputs": [
    {
     "data": {
      "text/plain": [
       "152992554889.11963"
      ]
     },
     "execution_count": 49,
     "metadata": {},
     "output_type": "execute_result"
    }
   ],
   "source": [
    "km.inertia_"
   ]
  },
  {
   "cell_type": "markdown",
   "metadata": {},
   "source": [
    "We will check cluster numbers from 2 to 12 by creating a list of each inertia value."
   ]
  },
  {
   "cell_type": "code",
   "execution_count": 53,
   "metadata": {},
   "outputs": [],
   "source": [
    "inertia_list = []\n",
    "for i in range(2, 13): \n",
    "    km = KMeans(n_clusters=i)\n",
    "    km.fit(t_images)\n",
    "    inertia_list.append(km.inertia_)"
   ]
  },
  {
   "cell_type": "code",
   "execution_count": 54,
   "metadata": {},
   "outputs": [
    {
     "data": {
      "text/plain": [
       "[3200974781.368697,\n",
       " 3041302176.489587,\n",
       " 2916367989.217548,\n",
       " 2815135394.074061,\n",
       " 2730482115.131169,\n",
       " 2663928808.532296,\n",
       " 2601016922.6657796,\n",
       " 2554514932.4292808,\n",
       " 2505375696.461155,\n",
       " 2469150321.8651085,\n",
       " 2431323531.953709]"
      ]
     },
     "execution_count": 54,
     "metadata": {},
     "output_type": "execute_result"
    }
   ],
   "source": [
    "inertia_list"
   ]
  },
  {
   "cell_type": "markdown",
   "metadata": {},
   "source": [
    "As we can see, the inertia steadily decreases as the number of clusters increases. This implies that the higher the number of clusters the more accurate it will be, but there is a less significant difference in inertia as it goes along. "
   ]
  },
  {
   "cell_type": "code",
   "execution_count": 56,
   "metadata": {
    "scrolled": true
   },
   "outputs": [
    {
     "data": {
      "image/png": "[encoded data removed]",
      "text/plain": [
       "<Figure size 432x288 with 1 Axes>"
      ]
     },
     "metadata": {
      "needs_background": "light"
     },
     "output_type": "display_data"
    }
   ],
   "source": [
    "plt.plot(range(2,13), inertia_list, \"ro-\"); "
   ]
  },
  {
   "cell_type": "markdown",
   "metadata": {},
   "source": [
    "While a larger number of clusters does decrease the inertia"
   ]
  }
 ],
 "metadata": {
  "kernelspec": {
   "display_name": "Python 3",
   "language": "python",
   "name": "python3"
  },
  "language_info": {
   "codemirror_mode": {
    "name": "ipython",
    "version": 3
   },
   "file_extension": ".py",
   "mimetype": "text/x-python",
   "name": "python",
   "nbconvert_exporter": "python",
   "pygments_lexer": "ipython3",
   "version": "3.8.5"
  }
 },
 "nbformat": 4,
 "nbformat_minor": 4
}
